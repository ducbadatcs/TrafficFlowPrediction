{
 "cells": [
  {
   "cell_type": "code",
   "execution_count": 3,
   "id": "3a766de3",
   "metadata": {},
   "outputs": [
    {
     "name": "stdout",
     "output_type": "stream",
     "text": [
      "Requirement already satisfied: torch in c:\\users\\duc\\documents\\trafficflowprediction\\lib\\site-packages (2.8.0)\n",
      "Requirement already satisfied: scikit-learn in c:\\users\\duc\\documents\\trafficflowprediction\\lib\\site-packages (1.7.2)\n",
      "Requirement already satisfied: pandas in c:\\users\\duc\\documents\\trafficflowprediction\\lib\\site-packages (2.3.3)\n",
      "Requirement already satisfied: tensorflow in c:\\users\\duc\\documents\\trafficflowprediction\\lib\\site-packages (2.20.0)\n",
      "Requirement already satisfied: keras in c:\\users\\duc\\documents\\trafficflowprediction\\lib\\site-packages (3.11.3)\n",
      "Requirement already satisfied: filelock in c:\\users\\duc\\documents\\trafficflowprediction\\lib\\site-packages (from torch) (3.20.0)\n",
      "Requirement already satisfied: typing-extensions>=4.10.0 in c:\\users\\duc\\documents\\trafficflowprediction\\lib\\site-packages (from torch) (4.15.0)\n",
      "Requirement already satisfied: sympy>=1.13.3 in c:\\users\\duc\\documents\\trafficflowprediction\\lib\\site-packages (from torch) (1.14.0)\n",
      "Requirement already satisfied: networkx in c:\\users\\duc\\documents\\trafficflowprediction\\lib\\site-packages (from torch) (3.5)\n",
      "Requirement already satisfied: jinja2 in c:\\users\\duc\\documents\\trafficflowprediction\\lib\\site-packages (from torch) (3.1.6)\n",
      "Requirement already satisfied: fsspec in c:\\users\\duc\\documents\\trafficflowprediction\\lib\\site-packages (from torch) (2025.9.0)\n",
      "Requirement already satisfied: setuptools in c:\\users\\duc\\documents\\trafficflowprediction\\lib\\site-packages (from torch) (80.9.0)\n",
      "Requirement already satisfied: numpy>=1.22.0 in c:\\users\\duc\\documents\\trafficflowprediction\\lib\\site-packages (from scikit-learn) (2.3.3)\n",
      "Requirement already satisfied: scipy>=1.8.0 in c:\\users\\duc\\documents\\trafficflowprediction\\lib\\site-packages (from scikit-learn) (1.16.2)\n",
      "Requirement already satisfied: joblib>=1.2.0 in c:\\users\\duc\\documents\\trafficflowprediction\\lib\\site-packages (from scikit-learn) (1.5.2)\n",
      "Requirement already satisfied: threadpoolctl>=3.1.0 in c:\\users\\duc\\documents\\trafficflowprediction\\lib\\site-packages (from scikit-learn) (3.6.0)\n",
      "Requirement already satisfied: python-dateutil>=2.8.2 in c:\\users\\duc\\documents\\trafficflowprediction\\lib\\site-packages (from pandas) (2.9.0.post0)\n",
      "Requirement already satisfied: pytz>=2020.1 in c:\\users\\duc\\documents\\trafficflowprediction\\lib\\site-packages (from pandas) (2025.2)\n",
      "Requirement already satisfied: tzdata>=2022.7 in c:\\users\\duc\\documents\\trafficflowprediction\\lib\\site-packages (from pandas) (2025.2)\n",
      "Requirement already satisfied: absl-py>=1.0.0 in c:\\users\\duc\\documents\\trafficflowprediction\\lib\\site-packages (from tensorflow) (2.3.1)\n",
      "Requirement already satisfied: astunparse>=1.6.0 in c:\\users\\duc\\documents\\trafficflowprediction\\lib\\site-packages (from tensorflow) (1.6.3)\n",
      "Requirement already satisfied: flatbuffers>=24.3.25 in c:\\users\\duc\\documents\\trafficflowprediction\\lib\\site-packages (from tensorflow) (25.9.23)\n",
      "Requirement already satisfied: gast!=0.5.0,!=0.5.1,!=0.5.2,>=0.2.1 in c:\\users\\duc\\documents\\trafficflowprediction\\lib\\site-packages (from tensorflow) (0.6.0)\n",
      "Requirement already satisfied: google_pasta>=0.1.1 in c:\\users\\duc\\documents\\trafficflowprediction\\lib\\site-packages (from tensorflow) (0.2.0)\n",
      "Requirement already satisfied: libclang>=13.0.0 in c:\\users\\duc\\documents\\trafficflowprediction\\lib\\site-packages (from tensorflow) (18.1.1)\n",
      "Requirement already satisfied: opt_einsum>=2.3.2 in c:\\users\\duc\\documents\\trafficflowprediction\\lib\\site-packages (from tensorflow) (3.4.0)\n",
      "Requirement already satisfied: packaging in c:\\users\\duc\\documents\\trafficflowprediction\\lib\\site-packages (from tensorflow) (25.0)\n",
      "Requirement already satisfied: protobuf>=5.28.0 in c:\\users\\duc\\documents\\trafficflowprediction\\lib\\site-packages (from tensorflow) (6.32.1)\n",
      "Requirement already satisfied: requests<3,>=2.21.0 in c:\\users\\duc\\documents\\trafficflowprediction\\lib\\site-packages (from tensorflow) (2.32.5)\n",
      "Requirement already satisfied: six>=1.12.0 in c:\\users\\duc\\documents\\trafficflowprediction\\lib\\site-packages (from tensorflow) (1.17.0)\n",
      "Requirement already satisfied: termcolor>=1.1.0 in c:\\users\\duc\\documents\\trafficflowprediction\\lib\\site-packages (from tensorflow) (3.1.0)\n",
      "Requirement already satisfied: wrapt>=1.11.0 in c:\\users\\duc\\documents\\trafficflowprediction\\lib\\site-packages (from tensorflow) (1.17.3)\n",
      "Requirement already satisfied: grpcio<2.0,>=1.24.3 in c:\\users\\duc\\documents\\trafficflowprediction\\lib\\site-packages (from tensorflow) (1.75.1)\n",
      "Requirement already satisfied: tensorboard~=2.20.0 in c:\\users\\duc\\documents\\trafficflowprediction\\lib\\site-packages (from tensorflow) (2.20.0)\n",
      "Requirement already satisfied: h5py>=3.11.0 in c:\\users\\duc\\documents\\trafficflowprediction\\lib\\site-packages (from tensorflow) (3.14.0)\n",
      "Requirement already satisfied: ml_dtypes<1.0.0,>=0.5.1 in c:\\users\\duc\\documents\\trafficflowprediction\\lib\\site-packages (from tensorflow) (0.5.3)\n",
      "Requirement already satisfied: charset_normalizer<4,>=2 in c:\\users\\duc\\documents\\trafficflowprediction\\lib\\site-packages (from requests<3,>=2.21.0->tensorflow) (3.4.3)\n",
      "Requirement already satisfied: idna<4,>=2.5 in c:\\users\\duc\\documents\\trafficflowprediction\\lib\\site-packages (from requests<3,>=2.21.0->tensorflow) (3.10)\n",
      "Requirement already satisfied: urllib3<3,>=1.21.1 in c:\\users\\duc\\documents\\trafficflowprediction\\lib\\site-packages (from requests<3,>=2.21.0->tensorflow) (2.5.0)\n",
      "Requirement already satisfied: certifi>=2017.4.17 in c:\\users\\duc\\documents\\trafficflowprediction\\lib\\site-packages (from requests<3,>=2.21.0->tensorflow) (2025.10.5)\n",
      "Requirement already satisfied: markdown>=2.6.8 in c:\\users\\duc\\documents\\trafficflowprediction\\lib\\site-packages (from tensorboard~=2.20.0->tensorflow) (3.9)\n",
      "Requirement already satisfied: pillow in c:\\users\\duc\\documents\\trafficflowprediction\\lib\\site-packages (from tensorboard~=2.20.0->tensorflow) (11.3.0)\n",
      "Requirement already satisfied: tensorboard-data-server<0.8.0,>=0.7.0 in c:\\users\\duc\\documents\\trafficflowprediction\\lib\\site-packages (from tensorboard~=2.20.0->tensorflow) (0.7.2)\n",
      "Requirement already satisfied: werkzeug>=1.0.1 in c:\\users\\duc\\documents\\trafficflowprediction\\lib\\site-packages (from tensorboard~=2.20.0->tensorflow) (3.1.3)\n",
      "Requirement already satisfied: rich in c:\\users\\duc\\documents\\trafficflowprediction\\lib\\site-packages (from keras) (14.1.0)\n",
      "Requirement already satisfied: namex in c:\\users\\duc\\documents\\trafficflowprediction\\lib\\site-packages (from keras) (0.1.0)\n",
      "Requirement already satisfied: optree in c:\\users\\duc\\documents\\trafficflowprediction\\lib\\site-packages (from keras) (0.17.0)\n",
      "Requirement already satisfied: wheel<1.0,>=0.23.0 in c:\\users\\duc\\documents\\trafficflowprediction\\lib\\site-packages (from astunparse>=1.6.0->tensorflow) (0.45.1)\n",
      "Requirement already satisfied: mpmath<1.4,>=1.1.0 in c:\\users\\duc\\documents\\trafficflowprediction\\lib\\site-packages (from sympy>=1.13.3->torch) (1.3.0)\n",
      "Requirement already satisfied: MarkupSafe>=2.1.1 in c:\\users\\duc\\documents\\trafficflowprediction\\lib\\site-packages (from werkzeug>=1.0.1->tensorboard~=2.20.0->tensorflow) (3.0.3)\n",
      "Requirement already satisfied: markdown-it-py>=2.2.0 in c:\\users\\duc\\documents\\trafficflowprediction\\lib\\site-packages (from rich->keras) (4.0.0)\n",
      "Requirement already satisfied: pygments<3.0.0,>=2.13.0 in c:\\users\\duc\\documents\\trafficflowprediction\\lib\\site-packages (from rich->keras) (2.19.2)\n",
      "Requirement already satisfied: mdurl~=0.1 in c:\\users\\duc\\documents\\trafficflowprediction\\lib\\site-packages (from markdown-it-py>=2.2.0->rich->keras) (0.1.2)\n",
      "Note: you may need to restart the kernel to use updated packages.\n"
     ]
    },
    {
     "name": "stderr",
     "output_type": "stream",
     "text": [
      "\n",
      "[notice] A new release of pip is available: 25.1.1 -> 25.2\n",
      "[notice] To update, run: python.exe -m pip install --upgrade pip\n"
     ]
    }
   ],
   "source": [
    "%pip install -U torch scikit-learn pandas tensorflow keras"
   ]
  },
  {
   "cell_type": "code",
   "execution_count": 4,
   "id": "2e94f03b",
   "metadata": {},
   "outputs": [],
   "source": [
    "# setting up seed and device\n",
    "from typing import Any\n",
    "import numpy as np\n",
    "import torch\n",
    "device = torch.device(\"cuda\" if torch.cuda.is_available() else \"cpu\")\n",
    "\n",
    "seed = 100\n",
    "torch.manual_seed(seed)\n",
    "np.random.seed(seed)"
   ]
  },
  {
   "cell_type": "markdown",
   "id": "e1570270",
   "metadata": {},
   "source": [
    "First, we'll read the relevant data."
   ]
  },
  {
   "cell_type": "code",
   "execution_count": 5,
   "id": "d899a49a",
   "metadata": {},
   "outputs": [],
   "source": [
    "# read the data, fill missing data with 0\n",
    "import pandas as pd\n",
    "train_df = pd.read_csv(\"./data/train.csv\", encoding=\"utf-8\").fillna(0)\n",
    "test_df = pd.read_csv(\"./data/test.csv\", encoding=\"utf-8\").fillna(0)\n",
    "\n"
   ]
  },
  {
   "cell_type": "markdown",
   "id": "702ca534",
   "metadata": {},
   "source": [
    "I just need to make sense of this transformation. Apparently, it removes the last column..."
   ]
  },
  {
   "cell_type": "code",
   "execution_count": 6,
   "id": "40d1df54",
   "metadata": {},
   "outputs": [
    {
     "name": "stdout",
     "output_type": "stream",
     "text": [
      "A = [[1 2 3]\n",
      " [4 5 6]\n",
      " [7 8 9]]\n",
      "A[:, :-1] = [[1 2]\n",
      " [4 5]\n",
      " [7 8]]\n"
     ]
    }
   ],
   "source": [
    "import numpy as np\n",
    "# remove the last column\n",
    "A = np.array([[1, 2, 3], [4, 5, 6], [7, 8, 9]])\n",
    "\n",
    "print(f\"A = {A}\")\n",
    "print(f\"A[:, :-1] = {A[:, :-1]}\")"
   ]
  },
  {
   "cell_type": "markdown",
   "id": "087bb1dd",
   "metadata": {},
   "source": [
    "Then, we'll process it."
   ]
  },
  {
   "cell_type": "code",
   "execution_count": 7,
   "id": "332d1b4f",
   "metadata": {},
   "outputs": [
    {
     "data": {
      "text/html": [
       "<div>\n",
       "<style scoped>\n",
       "    .dataframe tbody tr th:only-of-type {\n",
       "        vertical-align: middle;\n",
       "    }\n",
       "\n",
       "    .dataframe tbody tr th {\n",
       "        vertical-align: top;\n",
       "    }\n",
       "\n",
       "    .dataframe thead th {\n",
       "        text-align: right;\n",
       "    }\n",
       "</style>\n",
       "<table border=\"1\" class=\"dataframe\">\n",
       "  <thead>\n",
       "    <tr style=\"text-align: right;\">\n",
       "      <th></th>\n",
       "      <th>5 Minutes</th>\n",
       "      <th>Lane 1 Flow (Veh/5 Minutes)</th>\n",
       "      <th># Lane Points</th>\n",
       "      <th>% Observed</th>\n",
       "    </tr>\n",
       "  </thead>\n",
       "  <tbody>\n",
       "    <tr>\n",
       "      <th>0</th>\n",
       "      <td>04/01/2016 0:00</td>\n",
       "      <td>12</td>\n",
       "      <td>1</td>\n",
       "      <td>100</td>\n",
       "    </tr>\n",
       "    <tr>\n",
       "      <th>1</th>\n",
       "      <td>04/01/2016 0:05</td>\n",
       "      <td>13</td>\n",
       "      <td>1</td>\n",
       "      <td>100</td>\n",
       "    </tr>\n",
       "    <tr>\n",
       "      <th>2</th>\n",
       "      <td>04/01/2016 0:10</td>\n",
       "      <td>11</td>\n",
       "      <td>1</td>\n",
       "      <td>100</td>\n",
       "    </tr>\n",
       "    <tr>\n",
       "      <th>3</th>\n",
       "      <td>04/01/2016 0:15</td>\n",
       "      <td>13</td>\n",
       "      <td>1</td>\n",
       "      <td>100</td>\n",
       "    </tr>\n",
       "    <tr>\n",
       "      <th>4</th>\n",
       "      <td>04/01/2016 0:20</td>\n",
       "      <td>10</td>\n",
       "      <td>1</td>\n",
       "      <td>100</td>\n",
       "    </tr>\n",
       "  </tbody>\n",
       "</table>\n",
       "</div>"
      ],
      "text/plain": [
       "         5 Minutes  Lane 1 Flow (Veh/5 Minutes)  # Lane Points  % Observed\n",
       "0  04/01/2016 0:00                           12              1         100\n",
       "1  04/01/2016 0:05                           13              1         100\n",
       "2  04/01/2016 0:10                           11              1         100\n",
       "3  04/01/2016 0:15                           13              1         100\n",
       "4  04/01/2016 0:20                           10              1         100"
      ]
     },
     "execution_count": 7,
     "metadata": {},
     "output_type": "execute_result"
    }
   ],
   "source": [
    "# basic data preview\n",
    "train_df.head(5)"
   ]
  },
  {
   "cell_type": "code",
   "execution_count": 8,
   "id": "aba8792d",
   "metadata": {},
   "outputs": [],
   "source": [
    "# hyperparameter\n",
    "\n",
    "lag = 12"
   ]
  },
  {
   "cell_type": "code",
   "execution_count": 9,
   "id": "6154df24",
   "metadata": {},
   "outputs": [],
   "source": [
    "import torch\n",
    "from sklearn.preprocessing import StandardScaler, MinMaxScaler\n",
    "import numpy as np\n",
    "\n",
    "train_col: str = \"Lane 1 Flow (Veh/5 Minutes)\"\n",
    "\n",
    "# fit scaler on training column\n",
    "\n",
    "# FIX: Fit scaler on TRAINING data, not test data\n",
    "scaler = MinMaxScaler(feature_range=(0, 1)).fit(\n",
    "    train_df[train_col].values.reshape(-1, 1)  # ✅ Use train_df\n",
    ")\n",
    "\n",
    "train_flow = scaler.transform(train_df[train_col].values.reshape(-1, 1)).reshape(-1, 1)\n",
    "test_flow = scaler.transform(test_df[train_col].values.reshape(-1, 1)).reshape(-1, 1)\n",
    "\n",
    "train = []\n",
    "test = []\n",
    "\n",
    "for i in range(lag, len(train_flow)):\n",
    "    train.append(train_flow[i - lag : i + 1])\n",
    "for i in range(lag, len(test_flow)):\n",
    "    test.append(test_flow[i - lag : i + 1])\n",
    "    \n",
    "train_array = np.array(train, )\n",
    "test_array = np.array(test,)\n",
    "np.random.shuffle(train_array)\n",
    "\n",
    "# train: all values other than last column\n",
    "# test: last column\n",
    "X_train = train_array[:, :-1]\n",
    "y_train = train_array[:, -1]\n",
    "X_test = test_array[:, :-1]\n",
    "y_test = test_array[:, -1]\n",
    "\n",
    "\n",
    "\n"
   ]
  },
  {
   "cell_type": "code",
   "execution_count": 10,
   "id": "65d4d98f",
   "metadata": {},
   "outputs": [
    {
     "name": "stdout",
     "output_type": "stream",
     "text": [
      "Shape of X_train: (7764, 12, 1)\n",
      "Shape of X_test: (4308, 12, 1)\n",
      "Shape of y_train: (7764, 1)\n",
      "Shape of y_test: (4308, 1)\n"
     ]
    }
   ],
   "source": [
    "print(\"Shape of X_train:\", X_train.shape)\n",
    "print(\"Shape of X_test:\", X_test.shape)\n",
    "print(\"Shape of y_train:\", y_train.shape)\n",
    "print(\"Shape of y_test:\", y_test.shape)"
   ]
  },
  {
   "cell_type": "markdown",
   "id": "59830a94",
   "metadata": {},
   "source": [
    "We then process the dataset to a suitable form of training."
   ]
  },
  {
   "cell_type": "code",
   "execution_count": 11,
   "id": "803b7a96",
   "metadata": {},
   "outputs": [],
   "source": [
    "from torch.utils.data import TensorDataset, DataLoader\n",
    "\n",
    "batch = 256\n",
    "epochs = 10 #test\n",
    "lr = 0.001\n",
    "val = 0.05 # validation ratio\n",
    "\n",
    "X_train_tensor = torch.from_numpy(X_train).to(torch.float32) # Add feature dimension\n",
    "y_train_tensor = torch.from_numpy(y_train).to(torch.float32)\n",
    "X_test_tensor = torch.from_numpy(X_test).to(torch.float32)\n",
    "y_test_tensor = torch.from_numpy(y_test).to(torch.float32)\n",
    "\n",
    "val_size = int(len(X_train_tensor) * 0.05)\n",
    "X_val = X_train_tensor[-val_size:]\n",
    "y_val = y_train_tensor[-val_size:]\n",
    "X_train_split = X_train_tensor[:-val_size]\n",
    "y_train_split = y_train_tensor[:-val_size]\n",
    "\n",
    "train_dataset = TensorDataset(X_train_split, y_train_split)\n",
    "train_loader = DataLoader(train_dataset, batch_size=batch, shuffle=True)"
   ]
  },
  {
   "cell_type": "markdown",
   "id": "47cd6899",
   "metadata": {},
   "source": [
    "We implement the custom loss used in the original training: MAPE"
   ]
  },
  {
   "cell_type": "code",
   "execution_count": 12,
   "id": "d1ed17e3",
   "metadata": {},
   "outputs": [],
   "source": [
    "import torch\n",
    "from torch import nn, Tensor, optim\n",
    "from torch.nn import functional as F\n",
    "\n",
    "class MAPELoss(nn.Module):\n",
    "    def __init__(self, eps: float = 1e-7):\n",
    "        super().__init__()\n",
    "        self.eps = eps  # avoid division by zero\n",
    "        \n",
    "    def forward(self, input: Tensor, target: Tensor) -> Tensor:\n",
    "        # Formula: mean( |(target - input) / clip(|target|, eps, inf)| ) * 100\n",
    "        denom = torch.clamp(torch.abs(target), min=self.eps)\n",
    "        loss = torch.mean(torch.abs((target - input) / denom)) * 100\n",
    "        return loss\n",
    "\n",
    "mse = nn.MSELoss()\n",
    "mape = MAPELoss()"
   ]
  },
  {
   "cell_type": "code",
   "execution_count": 13,
   "id": "ebb81a4e",
   "metadata": {},
   "outputs": [
    {
     "data": {
      "text/plain": [
       "LSTM(\n",
       "  (lstm1): LSTM(1, 64, batch_first=True)\n",
       "  (lstm2): LSTM(64, 64, batch_first=True)\n",
       "  (dropout): Dropout(p=0.2, inplace=False)\n",
       "  (head): Sequential(\n",
       "    (0): Dropout(p=0.2, inplace=False)\n",
       "    (1): Linear(in_features=64, out_features=1, bias=True)\n",
       "    (2): Sigmoid()\n",
       "  )\n",
       ")"
      ]
     },
     "execution_count": 13,
     "metadata": {},
     "output_type": "execute_result"
    }
   ],
   "source": [
    "\n",
    "class LSTM(nn.Module):\n",
    "    def __init__(self, units: list[int], *args, **kwargs) -> None:\n",
    "        super().__init__(*args, **kwargs)\n",
    "        self.lstm1 = nn.LSTM(input_size=1, hidden_size=units[1], batch_first=True, num_layers=1)\n",
    "        self.lstm2 = nn.LSTM(input_size=units[1], hidden_size=units[2], batch_first=True, num_layers=1)\n",
    "        self.dropout = nn.Dropout(0.2)\n",
    "        # self.linear = nn.Linear(in_features = units[2], out_features=units[3])\n",
    "        self.head = nn.Sequential(\n",
    "            nn.Dropout(0.2),\n",
    "            nn.Linear(units[2], units[3]),\n",
    "            nn.Sigmoid()\n",
    "        )\n",
    "        \n",
    "        \n",
    "    def forward(self, x: Tensor) -> Tensor:\n",
    "        # lstm layer 1\n",
    "        x, _ = self.lstm1(x)\n",
    "        x, _ = self.lstm2(x)\n",
    "        \n",
    "        # keeps every sequence in the batch (:) but selects only the last \n",
    "        # time-step (-1) from the sequence dimension, leaving a tensor of shape \n",
    "        # (batch_size, hidden_size) for the final linear layer.\n",
    "        x = x[:, -1, :]\n",
    "        x = self.dropout(x)\n",
    "        return self.head(x)\n",
    "\n",
    "lstm = LSTM([12, 64, 64, 1])\n",
    "lstm.to(device)\n"
   ]
  },
  {
   "cell_type": "markdown",
   "id": "b811ecb1",
   "metadata": {},
   "source": [
    "Optimize the LSTM model\n"
   ]
  },
  {
   "cell_type": "markdown",
   "id": "c25dfc8e",
   "metadata": {},
   "source": [
    "Note that Criterion here is MSE."
   ]
  },
  {
   "cell_type": "code",
   "execution_count": 19,
   "id": "ef84863e",
   "metadata": {},
   "outputs": [
    {
     "name": "stdout",
     "output_type": "stream",
     "text": [
      "Epoch [10/600], MSE: 0.002275, Val MSE: 0.002327, MAPE: 26492.83%, Val MAPE: 14.38%\n",
      "Epoch [20/600], MSE: 0.002247, Val MSE: 0.002369, MAPE: 24395.09%, Val MAPE: 16.37%\n",
      "Epoch [30/600], MSE: 0.002256, Val MSE: 0.002445, MAPE: 21939.94%, Val MAPE: 15.27%\n",
      "Epoch [40/600], MSE: 0.002266, Val MSE: 0.002240, MAPE: 22172.58%, Val MAPE: 14.87%\n",
      "Epoch [50/600], MSE: 0.002239, Val MSE: 0.002247, MAPE: 22073.81%, Val MAPE: 15.36%\n",
      "Epoch [60/600], MSE: 0.002258, Val MSE: 0.002301, MAPE: 18285.16%, Val MAPE: 16.87%\n",
      "Epoch [70/600], MSE: 0.002244, Val MSE: 0.002278, MAPE: 20078.58%, Val MAPE: 14.34%\n",
      "Epoch [80/600], MSE: 0.002245, Val MSE: 0.002268, MAPE: 19181.90%, Val MAPE: 14.89%\n",
      "Epoch [90/600], MSE: 0.002204, Val MSE: 0.002353, MAPE: 23333.03%, Val MAPE: 14.63%\n",
      "Epoch [100/600], MSE: 0.002212, Val MSE: 0.002401, MAPE: 16953.81%, Val MAPE: 14.52%\n",
      "Epoch [110/600], MSE: 0.002241, Val MSE: 0.002366, MAPE: 16955.37%, Val MAPE: 17.20%\n",
      "Epoch [120/600], MSE: 0.002240, Val MSE: 0.002297, MAPE: 19656.27%, Val MAPE: 15.60%\n",
      "Epoch [130/600], MSE: 0.002192, Val MSE: 0.002330, MAPE: 23160.71%, Val MAPE: 17.19%\n",
      "Epoch [140/600], MSE: 0.002208, Val MSE: 0.002322, MAPE: 19494.55%, Val MAPE: 16.74%\n",
      "Epoch [150/600], MSE: 0.002195, Val MSE: 0.002261, MAPE: 21471.44%, Val MAPE: 14.77%\n",
      "Epoch [160/600], MSE: 0.002188, Val MSE: 0.002362, MAPE: 20989.45%, Val MAPE: 14.92%\n",
      "Epoch [170/600], MSE: 0.002189, Val MSE: 0.002402, MAPE: 20596.42%, Val MAPE: 16.92%\n",
      "Epoch [180/600], MSE: 0.002138, Val MSE: 0.002338, MAPE: 18508.04%, Val MAPE: 14.62%\n",
      "Epoch [190/600], MSE: 0.002164, Val MSE: 0.002371, MAPE: 30685.07%, Val MAPE: 14.79%\n",
      "Epoch [200/600], MSE: 0.002170, Val MSE: 0.002340, MAPE: 18636.39%, Val MAPE: 14.41%\n",
      "Epoch [210/600], MSE: 0.002151, Val MSE: 0.002386, MAPE: 24401.73%, Val MAPE: 20.75%\n",
      "Epoch [220/600], MSE: 0.002143, Val MSE: 0.002328, MAPE: 23892.80%, Val MAPE: 14.88%\n",
      "Epoch [230/600], MSE: 0.002108, Val MSE: 0.002342, MAPE: 18556.96%, Val MAPE: 14.47%\n",
      "Epoch [240/600], MSE: 0.002094, Val MSE: 0.002416, MAPE: 16751.94%, Val MAPE: 17.93%\n",
      "Epoch [250/600], MSE: 0.002111, Val MSE: 0.002334, MAPE: 22800.17%, Val MAPE: 14.89%\n",
      "Epoch [260/600], MSE: 0.002069, Val MSE: 0.002396, MAPE: 18201.66%, Val MAPE: 14.93%\n",
      "Epoch [270/600], MSE: 0.002099, Val MSE: 0.002380, MAPE: 22683.55%, Val MAPE: 17.95%\n",
      "Epoch [280/600], MSE: 0.002070, Val MSE: 0.002323, MAPE: 21329.19%, Val MAPE: 15.01%\n",
      "Epoch [290/600], MSE: 0.002095, Val MSE: 0.002335, MAPE: 24159.07%, Val MAPE: 16.31%\n",
      "Epoch [300/600], MSE: 0.002077, Val MSE: 0.002340, MAPE: 18860.63%, Val MAPE: 16.07%\n",
      "Epoch [310/600], MSE: 0.002049, Val MSE: 0.002301, MAPE: 19010.24%, Val MAPE: 15.72%\n",
      "Epoch [320/600], MSE: 0.002041, Val MSE: 0.002260, MAPE: 19450.60%, Val MAPE: 14.40%\n",
      "Epoch [330/600], MSE: 0.002034, Val MSE: 0.002427, MAPE: 27082.03%, Val MAPE: 17.76%\n",
      "Epoch [340/600], MSE: 0.002002, Val MSE: 0.002370, MAPE: 23496.54%, Val MAPE: 15.46%\n",
      "Epoch [350/600], MSE: 0.002010, Val MSE: 0.002307, MAPE: 19598.25%, Val MAPE: 15.92%\n",
      "Epoch [360/600], MSE: 0.001994, Val MSE: 0.002461, MAPE: 24953.32%, Val MAPE: 17.56%\n",
      "Epoch [370/600], MSE: 0.001971, Val MSE: 0.002308, MAPE: 19916.27%, Val MAPE: 15.46%\n",
      "Epoch [380/600], MSE: 0.001964, Val MSE: 0.002374, MAPE: 20110.03%, Val MAPE: 14.57%\n",
      "Epoch [390/600], MSE: 0.001949, Val MSE: 0.002331, MAPE: 19355.53%, Val MAPE: 19.48%\n",
      "Epoch [400/600], MSE: 0.001926, Val MSE: 0.002323, MAPE: 18637.57%, Val MAPE: 14.81%\n",
      "Epoch [410/600], MSE: 0.001886, Val MSE: 0.002364, MAPE: 22347.40%, Val MAPE: 14.74%\n",
      "Epoch [420/600], MSE: 0.001880, Val MSE: 0.002325, MAPE: 16252.42%, Val MAPE: 16.03%\n",
      "Epoch [430/600], MSE: 0.001913, Val MSE: 0.002422, MAPE: 21968.33%, Val MAPE: 17.84%\n",
      "Epoch [440/600], MSE: 0.001898, Val MSE: 0.002319, MAPE: 20377.56%, Val MAPE: 16.09%\n",
      "Epoch [450/600], MSE: 0.001856, Val MSE: 0.002331, MAPE: 19824.95%, Val MAPE: 15.32%\n",
      "Epoch [460/600], MSE: 0.001848, Val MSE: 0.002307, MAPE: 22199.14%, Val MAPE: 15.48%\n",
      "Epoch [470/600], MSE: 0.001821, Val MSE: 0.002416, MAPE: 22742.21%, Val MAPE: 14.97%\n",
      "Epoch [480/600], MSE: 0.001782, Val MSE: 0.002458, MAPE: 28018.54%, Val MAPE: 15.31%\n",
      "Epoch [490/600], MSE: 0.001790, Val MSE: 0.002526, MAPE: 26974.58%, Val MAPE: 15.78%\n",
      "Epoch [500/600], MSE: 0.001760, Val MSE: 0.002394, MAPE: 16813.95%, Val MAPE: 15.58%\n",
      "Epoch [510/600], MSE: 0.001758, Val MSE: 0.002480, MAPE: 22494.91%, Val MAPE: 14.90%\n",
      "Epoch [520/600], MSE: 0.001697, Val MSE: 0.002616, MAPE: 22212.83%, Val MAPE: 17.46%\n",
      "Epoch [530/600], MSE: 0.001670, Val MSE: 0.002462, MAPE: 22841.01%, Val MAPE: 15.12%\n",
      "Epoch [540/600], MSE: 0.001682, Val MSE: 0.002645, MAPE: 21561.82%, Val MAPE: 16.32%\n",
      "Epoch [550/600], MSE: 0.001636, Val MSE: 0.002618, MAPE: 23744.17%, Val MAPE: 15.47%\n",
      "Epoch [560/600], MSE: 0.001605, Val MSE: 0.002688, MAPE: 17972.11%, Val MAPE: 15.24%\n",
      "Epoch [570/600], MSE: 0.001604, Val MSE: 0.002598, MAPE: 24386.84%, Val MAPE: 15.05%\n",
      "Epoch [580/600], MSE: 0.001554, Val MSE: 0.002667, MAPE: 18941.46%, Val MAPE: 16.20%\n",
      "Epoch [590/600], MSE: 0.001533, Val MSE: 0.002599, MAPE: 17086.98%, Val MAPE: 17.84%\n",
      "Epoch [600/600], MSE: 0.001513, Val MSE: 0.002637, MAPE: 22056.91%, Val MAPE: 15.08%\n"
     ]
    }
   ],
   "source": [
    "\n",
    "optimizer = optim.RMSprop(\n",
    "    lstm.parameters(), lr=1e-3, alpha=0.9, eps=1e-6\n",
    ")\n",
    "\n",
    "mse_metric = nn.MSELoss()\n",
    "mape_metric = MAPELoss()\n",
    "\n",
    "history = {'mse': [], 'val_mse': [], 'mape': [], 'val_mape': []}\n",
    "\n",
    "epochs = 600\n",
    "\n",
    "for epoch in range(epochs):\n",
    "    lstm.train()\n",
    "    train_mse: float = 0\n",
    "    train_mape: float = 0\n",
    "    \n",
    "    # evaluate error over batch\n",
    "    for batch_X, batch_y in train_loader:\n",
    "        batch_X, batch_y = batch_X.to(device), batch_y.to(device)\n",
    "        \n",
    "        optimizer.zero_grad()\n",
    "        outputs = lstm(batch_X)\n",
    "        mse = mse_metric(outputs, batch_y)\n",
    "        mape = mape_metric(outputs, batch_y)\n",
    "        \n",
    "        mse.backward()\n",
    "        optimizer.step()\n",
    "        \n",
    "        train_mse += mse.item()\n",
    "        train_mape += mape.item()\n",
    "        \n",
    "    train_mse /= len(train_loader)\n",
    "    train_mape /= len(train_loader)\n",
    "    history[\"mse\"].append(train_mse)\n",
    "    history[\"mape\"].append(train_mape)\n",
    "    \n",
    "    # validation\n",
    "    lstm.eval()\n",
    "    with torch.no_grad():\n",
    "        X_val_device = X_val.to(device)\n",
    "        y_val_device = y_val.to(device)\n",
    "        val_outputs = lstm(X_val_device)\n",
    "        val_mse = mse_metric(val_outputs, y_val_device).item()\n",
    "        val_mape = mape_metric(val_outputs, y_val_device).item()\n",
    "        history[\"val_mse\"].append(val_mse)\n",
    "        history[\"val_mape\"].append(val_mape)\n",
    "        \n",
    "        \n",
    "    # compute MAPE on denormalized values\n",
    "    # with torch.no_grad():\n",
    "    \n",
    "    \n",
    "    if (epoch + 1) % 10 == 0:\n",
    "        print(f'Epoch [{epoch+1}/{epochs}], '\n",
    "              f'MSE: {train_mse:.6f}, Val MSE: {val_mse:.6f}, '\n",
    "              f'MAPE: {train_mape:.2f}%, Val MAPE: {val_mape:.2f}%')\n",
    "        "
   ]
  },
  {
   "cell_type": "code",
   "execution_count": 23,
   "id": "ea68f08d",
   "metadata": {},
   "outputs": [
    {
     "data": {
      "image/png": "[encoded data removed]",
      "text/plain": [
       "<Figure size 640x480 with 1 Axes>"
      ]
     },
     "metadata": {},
     "output_type": "display_data"
    }
   ],
   "source": [
    "from matplotlib import pyplot as plt \n",
    "\n",
    "# plot history\n",
    "\n",
    "# print(history)\n",
    "\n",
    "X_axis = np.arange(epochs)\n",
    "\n",
    "plt.title(\"LSTM Model: MSE over training\")\n",
    "\n",
    "plt.plot(X_axis, history[\"mse\"], label = \"MSE\")\n",
    "# plt.plot(X_axis, history[\"mape\"], label = \"MAPE\")\n",
    "\n",
    "plt.legend()\n",
    "plt.show()\n"
   ]
  },
  {
   "cell_type": "code",
   "execution_count": 24,
   "id": "1841cbaf",
   "metadata": {},
   "outputs": [
    {
     "data": {
      "text/plain": [
       "GRU(\n",
       "  (gru1): GRU(1, 64, batch_first=True)\n",
       "  (gru2): GRU(64, 64, batch_first=True)\n",
       "  (dropout): Dropout(p=0.2, inplace=False)\n",
       "  (linear): Linear(in_features=64, out_features=1, bias=True)\n",
       ")"
      ]
     },
     "execution_count": 24,
     "metadata": {},
     "output_type": "execute_result"
    }
   ],
   "source": [
    "class GRU(nn.Module):\n",
    "    def __init__(self, units: list[int], *args, **kwargs) -> None:\n",
    "        super().__init__(*args, **kwargs)\n",
    "        self.gru1 = nn.GRU(input_size=1, hidden_size=units[1], batch_first=True, num_layers=1)\n",
    "        self.gru2 = nn.GRU(input_size=units[1], hidden_size=units[2], batch_first=True, num_layers=1)\n",
    "        self.dropout = nn.Dropout(0.2)\n",
    "        self.linear = nn.Linear(in_features = units[2], out_features=units[3])\n",
    "        # print(len(self.lstm1))\n",
    "        # print(len(self.lstm2))\n",
    "        # print(len(self.dropout))\n",
    "        \n",
    "    def forward(self, x: Tensor) -> Tensor:\n",
    "        # lstm layer 1\n",
    "        x, _ = self.gru1(x)\n",
    "        x, _ = self.gru2(x)\n",
    "        \n",
    "        # keeps every sequence in the batch (:) but selects only the last \n",
    "        # time-step (-1) from the sequence dimension, leaving a tensor of shape \n",
    "        # (batch_size, hidden_size) for the final linear layer.\n",
    "        x = x[:, -1, :]\n",
    "        x = self.dropout(x)\n",
    "        return self.linear(x)\n",
    "    \n",
    "gru = GRU([12, 64, 64, 1])\n",
    "gru.to(device)\n",
    "\n"
   ]
  },
  {
   "cell_type": "code",
   "execution_count": 25,
   "id": "11ac6089",
   "metadata": {},
   "outputs": [
    {
     "name": "stdout",
     "output_type": "stream",
     "text": [
      "Epoch [10/600], MSE: 0.001244, Val MSE: 0.002752, MAPE: 22753.68%, Val MAPE: 16.71%\n",
      "Epoch [20/600], MSE: 0.001212, Val MSE: 0.002910, MAPE: 22727.71%, Val MAPE: 16.43%\n",
      "Epoch [30/600], MSE: 0.001169, Val MSE: 0.002911, MAPE: 21265.07%, Val MAPE: 16.60%\n",
      "Epoch [40/600], MSE: 0.001133, Val MSE: 0.002880, MAPE: 22036.02%, Val MAPE: 17.21%\n",
      "Epoch [50/600], MSE: 0.001074, Val MSE: 0.002956, MAPE: 21421.80%, Val MAPE: 15.79%\n",
      "Epoch [60/600], MSE: 0.001029, Val MSE: 0.003041, MAPE: 21197.72%, Val MAPE: 17.42%\n",
      "Epoch [70/600], MSE: 0.000990, Val MSE: 0.003085, MAPE: 22743.22%, Val MAPE: 16.07%\n",
      "Epoch [80/600], MSE: 0.000966, Val MSE: 0.003161, MAPE: 21510.50%, Val MAPE: 17.44%\n",
      "Epoch [90/600], MSE: 0.000956, Val MSE: 0.003163, MAPE: 22901.82%, Val MAPE: 17.70%\n",
      "Epoch [100/600], MSE: 0.000872, Val MSE: 0.003285, MAPE: 23193.51%, Val MAPE: 17.82%\n",
      "Epoch [110/600], MSE: 0.000831, Val MSE: 0.003435, MAPE: 22118.12%, Val MAPE: 17.96%\n",
      "Epoch [120/600], MSE: 0.000802, Val MSE: 0.003209, MAPE: 22833.56%, Val MAPE: 17.08%\n",
      "Epoch [130/600], MSE: 0.000785, Val MSE: 0.003644, MAPE: 22170.41%, Val MAPE: 19.32%\n",
      "Epoch [140/600], MSE: 0.000743, Val MSE: 0.003510, MAPE: 21678.16%, Val MAPE: 20.25%\n",
      "Epoch [150/600], MSE: 0.000690, Val MSE: 0.003499, MAPE: 21711.55%, Val MAPE: 17.36%\n",
      "Epoch [160/600], MSE: 0.000641, Val MSE: 0.003673, MAPE: 22445.81%, Val MAPE: 17.83%\n",
      "Epoch [170/600], MSE: 0.000646, Val MSE: 0.003495, MAPE: 22324.41%, Val MAPE: 17.89%\n",
      "Epoch [180/600], MSE: 0.000609, Val MSE: 0.003676, MAPE: 25194.42%, Val MAPE: 18.20%\n",
      "Epoch [190/600], MSE: 0.000581, Val MSE: 0.003596, MAPE: 22201.71%, Val MAPE: 19.66%\n",
      "Epoch [200/600], MSE: 0.000550, Val MSE: 0.003530, MAPE: 22572.47%, Val MAPE: 20.94%\n",
      "Epoch [210/600], MSE: 0.000515, Val MSE: 0.003567, MAPE: 22468.62%, Val MAPE: 19.06%\n",
      "Epoch [220/600], MSE: 0.000492, Val MSE: 0.003657, MAPE: 21270.72%, Val MAPE: 19.01%\n",
      "Epoch [230/600], MSE: 0.000452, Val MSE: 0.003696, MAPE: 23276.58%, Val MAPE: 20.31%\n",
      "Epoch [240/600], MSE: 0.000472, Val MSE: 0.003662, MAPE: 23513.71%, Val MAPE: 18.01%\n",
      "Epoch [250/600], MSE: 0.000435, Val MSE: 0.003516, MAPE: 21586.65%, Val MAPE: 17.59%\n",
      "Epoch [260/600], MSE: 0.000409, Val MSE: 0.003634, MAPE: 23009.03%, Val MAPE: 17.76%\n",
      "Epoch [270/600], MSE: 0.000375, Val MSE: 0.003593, MAPE: 22570.38%, Val MAPE: 17.54%\n",
      "Epoch [280/600], MSE: 0.000399, Val MSE: 0.003617, MAPE: 24524.68%, Val MAPE: 17.86%\n",
      "Epoch [290/600], MSE: 0.000358, Val MSE: 0.003580, MAPE: 25638.17%, Val MAPE: 18.97%\n",
      "Epoch [300/600], MSE: 0.000336, Val MSE: 0.003594, MAPE: 22556.98%, Val MAPE: 18.77%\n",
      "Epoch [310/600], MSE: 0.000319, Val MSE: 0.003505, MAPE: 21190.09%, Val MAPE: 19.02%\n",
      "Epoch [320/600], MSE: 0.000338, Val MSE: 0.003708, MAPE: 21925.50%, Val MAPE: 18.26%\n",
      "Epoch [330/600], MSE: 0.000289, Val MSE: 0.003793, MAPE: 23418.54%, Val MAPE: 19.03%\n",
      "Epoch [340/600], MSE: 0.000299, Val MSE: 0.003664, MAPE: 23578.40%, Val MAPE: 17.40%\n",
      "Epoch [350/600], MSE: 0.000279, Val MSE: 0.003620, MAPE: 22707.58%, Val MAPE: 18.63%\n",
      "Epoch [360/600], MSE: 0.000290, Val MSE: 0.003650, MAPE: 24407.55%, Val MAPE: 18.50%\n",
      "Epoch [370/600], MSE: 0.000271, Val MSE: 0.003655, MAPE: 23490.40%, Val MAPE: 18.13%\n",
      "Epoch [380/600], MSE: 0.000250, Val MSE: 0.003688, MAPE: 23666.71%, Val MAPE: 18.90%\n",
      "Epoch [390/600], MSE: 0.000263, Val MSE: 0.003627, MAPE: 24812.95%, Val MAPE: 19.31%\n",
      "Epoch [400/600], MSE: 0.000259, Val MSE: 0.003734, MAPE: 22966.01%, Val MAPE: 20.39%\n",
      "Epoch [410/600], MSE: 0.000237, Val MSE: 0.003927, MAPE: 22689.86%, Val MAPE: 18.15%\n",
      "Epoch [420/600], MSE: 0.000250, Val MSE: 0.003686, MAPE: 23175.34%, Val MAPE: 18.86%\n",
      "Epoch [430/600], MSE: 0.000231, Val MSE: 0.003819, MAPE: 24691.08%, Val MAPE: 18.22%\n",
      "Epoch [440/600], MSE: 0.000219, Val MSE: 0.003680, MAPE: 22987.80%, Val MAPE: 17.27%\n",
      "Epoch [450/600], MSE: 0.000202, Val MSE: 0.003830, MAPE: 23420.40%, Val MAPE: 18.06%\n",
      "Epoch [460/600], MSE: 0.000204, Val MSE: 0.003797, MAPE: 22490.50%, Val MAPE: 21.18%\n",
      "Epoch [470/600], MSE: 0.000217, Val MSE: 0.003784, MAPE: 21481.70%, Val MAPE: 19.82%\n",
      "Epoch [480/600], MSE: 0.000193, Val MSE: 0.003811, MAPE: 22511.55%, Val MAPE: 22.78%\n",
      "Epoch [490/600], MSE: 0.000193, Val MSE: 0.003803, MAPE: 21024.04%, Val MAPE: 19.48%\n",
      "Epoch [500/600], MSE: 0.000190, Val MSE: 0.003626, MAPE: 22824.86%, Val MAPE: 18.17%\n",
      "Epoch [510/600], MSE: 0.000192, Val MSE: 0.003818, MAPE: 23591.04%, Val MAPE: 20.10%\n",
      "Epoch [520/600], MSE: 0.000180, Val MSE: 0.003852, MAPE: 22432.01%, Val MAPE: 18.69%\n",
      "Epoch [530/600], MSE: 0.000178, Val MSE: 0.003737, MAPE: 23279.65%, Val MAPE: 19.11%\n",
      "Epoch [540/600], MSE: 0.000171, Val MSE: 0.003754, MAPE: 21548.08%, Val MAPE: 19.01%\n",
      "Epoch [550/600], MSE: 0.000174, Val MSE: 0.003754, MAPE: 23044.04%, Val MAPE: 19.78%\n",
      "Epoch [560/600], MSE: 0.000181, Val MSE: 0.003741, MAPE: 21797.96%, Val MAPE: 19.31%\n",
      "Epoch [570/600], MSE: 0.000164, Val MSE: 0.003734, MAPE: 21683.90%, Val MAPE: 18.50%\n",
      "Epoch [580/600], MSE: 0.000167, Val MSE: 0.003623, MAPE: 22598.52%, Val MAPE: 19.55%\n",
      "Epoch [590/600], MSE: 0.000169, Val MSE: 0.003720, MAPE: 26778.85%, Val MAPE: 18.29%\n",
      "Epoch [600/600], MSE: 0.000157, Val MSE: 0.003804, MAPE: 24251.29%, Val MAPE: 19.10%\n"
     ]
    }
   ],
   "source": [
    "\n",
    "optimizer = optim.RMSprop(\n",
    "    lstm.parameters(), lr=1e-3, alpha=0.9, eps=1e-6\n",
    ")\n",
    "\n",
    "mse_metric = nn.MSELoss()\n",
    "mape_metric = MAPELoss()\n",
    "\n",
    "history = {'mse': [], 'val_mse': [], 'mape': [], 'val_mape': []}\n",
    "\n",
    "epochs = 600\n",
    "\n",
    "for epoch in range(epochs):\n",
    "    gru.train()\n",
    "    train_mse: float = 0\n",
    "    train_mape: float = 0\n",
    "    \n",
    "    # evaluate error over batch\n",
    "    for batch_X, batch_y in train_loader:\n",
    "        batch_X, batch_y = batch_X.to(device), batch_y.to(device)\n",
    "        \n",
    "        optimizer.zero_grad()\n",
    "        outputs = lstm(batch_X)\n",
    "        mse = mse_metric(outputs, batch_y)\n",
    "        mape = mape_metric(outputs, batch_y)\n",
    "        \n",
    "        mse.backward()\n",
    "        optimizer.step()\n",
    "        \n",
    "        train_mse += mse.item()\n",
    "        train_mape += mape.item()\n",
    "        \n",
    "    train_mse /= len(train_loader)\n",
    "    train_mape /= len(train_loader)\n",
    "    history[\"mse\"].append(train_mse)\n",
    "    history[\"mape\"].append(train_mape)\n",
    "    \n",
    "    # validation\n",
    "    lstm.eval()\n",
    "    with torch.no_grad():\n",
    "        X_val_device = X_val.to(device)\n",
    "        y_val_device = y_val.to(device)\n",
    "        val_outputs = lstm(X_val_device)\n",
    "        val_mse = mse_metric(val_outputs, y_val_device).item()\n",
    "        val_mape = mape_metric(val_outputs, y_val_device).item()\n",
    "        history[\"val_mse\"].append(val_mse)\n",
    "        history[\"val_mape\"].append(val_mape)\n",
    "        \n",
    "        \n",
    "    # compute MAPE on denormalized values\n",
    "    # with torch.no_grad():\n",
    "    \n",
    "    \n",
    "    if (epoch + 1) % 10 == 0:\n",
    "        print(f'Epoch [{epoch+1}/{epochs}], '\n",
    "              f'MSE: {train_mse:.6f}, Val MSE: {val_mse:.6f}, '\n",
    "              f'MAPE: {train_mape:.2f}%, Val MAPE: {val_mape:.2f}%')\n",
    "        "
   ]
  },
  {
   "cell_type": "code",
   "execution_count": 26,
   "id": "c3ab0417",
   "metadata": {},
   "outputs": [
    {
     "data": {
      "image/png": "[encoded data removed]",
      "text/plain": [
       "<Figure size 640x480 with 1 Axes>"
      ]
     },
     "metadata": {},
     "output_type": "display_data"
    }
   ],
   "source": [
    "from matplotlib import pyplot as plt \n",
    "\n",
    "# plot history\n",
    "\n",
    "# print(history)\n",
    "\n",
    "X_axis = np.arange(epochs)\n",
    "\n",
    "plt.title(\"GRU Model: MSE over training\")\n",
    "\n",
    "plt.plot(X_axis, history[\"mse\"], label = \"MSE\")\n",
    "# plt.plot(X_axis, history[\"mape\"], label = \"MAPE\")\n",
    "\n",
    "plt.legend()\n",
    "plt.show()\n"
   ]
  },
  {
   "cell_type": "markdown",
   "id": "abe48640",
   "metadata": {},
   "source": []
  }
 ],
 "metadata": {
  "kernelspec": {
   "display_name": "TrafficFlowPrediction",
   "language": "python",
   "name": "python3"
  },
  "language_info": {
   "codemirror_mode": {
    "name": "ipython",
    "version": 3
   },
   "file_extension": ".py",
   "mimetype": "text/x-python",
   "name": "python",
   "nbconvert_exporter": "python",
   "pygments_lexer": "ipython3",
   "version": "3.13.5"
  }
 },
 "nbformat": 4,
 "nbformat_minor": 5
}
